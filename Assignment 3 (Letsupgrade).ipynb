{
 "cells": [
  {
   "cell_type": "markdown",
   "metadata": {},
   "source": [
    "# Question 1"
   ]
  },
  {
   "cell_type": "markdown",
   "metadata": {},
   "source": [
    "Write a Python function to find the Max of three numbers."
   ]
  },
  {
   "cell_type": "code",
   "execution_count": 1,
   "metadata": {},
   "outputs": [
    {
     "name": "stdout",
     "output_type": "stream",
     "text": [
      "Enter 3 numbers seperated by space:10 100 20\n",
      "Max of three numbers is 100\n"
     ]
    }
   ],
   "source": [
    "def max_3(a,b,c):\n",
    "    if(a>b and a>c):\n",
    "        return a\n",
    "    elif(b>a and b>c):\n",
    "        return b\n",
    "    elif(c>a and c>b):\n",
    "        return c\n",
    "    else:\n",
    "        pass\n",
    "\n",
    "x,y,z = map(int, input('Enter 3 numbers seperated by space:').split())\n",
    "res = max_3(x,y,z)\n",
    "print(\"Max of three numbers is\", res)"
   ]
  },
  {
   "cell_type": "markdown",
   "metadata": {},
   "source": [
    "# Question 2"
   ]
  },
  {
   "cell_type": "markdown",
   "metadata": {},
   "source": [
    "Write a Python function that checks whether a passed string is palindrome or not"
   ]
  },
  {
   "cell_type": "code",
   "execution_count": 12,
   "metadata": {},
   "outputs": [
    {
     "name": "stdout",
     "output_type": "stream",
     "text": [
      "Enter String:bhushan\n",
      "Passed String is not pallindrome\n"
     ]
    }
   ],
   "source": [
    "s1 = input('Enter String:')\n",
    "s2 = ''\n",
    "for i in s1:\n",
    "    s2 = i+s2\n",
    "if(s1==s2):\n",
    "    print('Passed String is pallindrome')\n",
    "else:\n",
    "    print('Passed String is not pallindrome')"
   ]
  },
  {
   "cell_type": "markdown",
   "metadata": {},
   "source": [
    "# Question 3"
   ]
  },
  {
   "cell_type": "markdown",
   "metadata": {},
   "source": [
    "Write a Python function that accepts a string and calculate the number of uppercase letters and lowercase letters"
   ]
  },
  {
   "cell_type": "code",
   "execution_count": 3,
   "metadata": {},
   "outputs": [
    {
     "name": "stdout",
     "output_type": "stream",
     "text": [
      "Enter String:INDIA is my country\n",
      "Total number of LOWERCASE letters in string = 11\n",
      "Total number of UPPERCASE letters in string = 5\n"
     ]
    }
   ],
   "source": [
    "def ul(s2):\n",
    "    upper,lower = 0,0\n",
    "    for i in s2:\n",
    "        if(i.islower()==True):\n",
    "            lower += 1\n",
    "        elif(i.isupper()==True):\n",
    "            upper += 1\n",
    "        else:\n",
    "            pass\n",
    "    print(\"Total number of LOWERCASE letters in string =\",lower)\n",
    "    print(\"Total number of UPPERCASE letters in string =\",upper)\n",
    "    \n",
    "s1 = input('Enter String:')\n",
    "ul(s1)"
   ]
  },
  {
   "cell_type": "markdown",
   "metadata": {},
   "source": [
    "# Question 4"
   ]
  },
  {
   "cell_type": "markdown",
   "metadata": {},
   "source": [
    "Write a Python function to sum all the numbers in a list"
   ]
  },
  {
   "cell_type": "code",
   "execution_count": 6,
   "metadata": {},
   "outputs": [
    {
     "name": "stdout",
     "output_type": "stream",
     "text": [
      "Enter List Elements:1 2 3 4 5\n",
      "Sum all the numbers in a list= 15\n"
     ]
    }
   ],
   "source": [
    "def sum1(ls1):\n",
    "    sum2 = 0\n",
    "    for i in ls1:\n",
    "        sum2 = sum2+i\n",
    "    print('Sum all the numbers in a list=',sum2)\n",
    "\n",
    "ls = list(map(int, input('Enter List Elements:').split()))\n",
    "sum1(ls)"
   ]
  },
  {
   "cell_type": "markdown",
   "metadata": {},
   "source": [
    "# Question 5"
   ]
  },
  {
   "cell_type": "markdown",
   "metadata": {},
   "source": [
    "Write a Python function to multiply all the numbers in a list"
   ]
  },
  {
   "cell_type": "code",
   "execution_count": 7,
   "metadata": {},
   "outputs": [
    {
     "name": "stdout",
     "output_type": "stream",
     "text": [
      "Enter List Elements:1 2 3 4 5 6 7 8 9 10\n",
      "Enter Any Number:5\n",
      "5\n",
      "10\n",
      "15\n",
      "20\n",
      "25\n",
      "30\n",
      "35\n",
      "40\n",
      "45\n",
      "50\n"
     ]
    }
   ],
   "source": [
    "def mul(ls1,n1):\n",
    "    for i in ls1:\n",
    "        print(i*n1)\n",
    "    \n",
    "ls = list(map(int, input('Enter List Elements:').split()))\n",
    "n = int(input('Enter Any Number:'))\n",
    "mul(ls,n)"
   ]
  },
  {
   "cell_type": "markdown",
   "metadata": {},
   "source": [
    "# Question 6"
   ]
  },
  {
   "cell_type": "markdown",
   "metadata": {},
   "source": [
    "Write a Python function that takes a list and returns a new list with unique elements of the first list"
   ]
  },
  {
   "cell_type": "code",
   "execution_count": 9,
   "metadata": {},
   "outputs": [
    {
     "name": "stdout",
     "output_type": "stream",
     "text": [
      "Enter List Elements:1 5 3 2 1 4 56 1 2 3 4 5 6\n",
      "[1, 5, 3, 2, 4, 56, 6]\n"
     ]
    }
   ],
   "source": [
    "def unique(ls2):\n",
    "    ls3 = []\n",
    "    for i in ls2:\n",
    "        if i not in ls3:\n",
    "            ls3.append(i)\n",
    "        else:\n",
    "            continue\n",
    "    return ls3\n",
    "    \n",
    "ls1 = list(map(int, input('Enter List Elements:').split()))\n",
    "res = unique(ls1)\n",
    "print(res)"
   ]
  }
 ],
 "metadata": {
  "kernelspec": {
   "display_name": "Python 3",
   "language": "python",
   "name": "python3"
  },
  "language_info": {
   "codemirror_mode": {
    "name": "ipython",
    "version": 3
   },
   "file_extension": ".py",
   "mimetype": "text/x-python",
   "name": "python",
   "nbconvert_exporter": "python",
   "pygments_lexer": "ipython3",
   "version": "3.7.4"
  }
 },
 "nbformat": 4,
 "nbformat_minor": 4
}
